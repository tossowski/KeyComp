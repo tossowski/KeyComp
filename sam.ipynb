{
 "cells": [
  {
   "cell_type": "code",
   "execution_count": 1,
   "metadata": {},
   "outputs": [
    {
     "name": "stderr",
     "output_type": "stream",
     "text": [
      "/work/ossowski/anaconda3/envs/minigpt4/lib/python3.9/site-packages/tqdm/auto.py:22: TqdmWarning: IProgress not found. Please update jupyter and ipywidgets. See https://ipywidgets.readthedocs.io/en/stable/user_install.html\n",
      "  from .autonotebook import tqdm as notebook_tqdm\n",
      "/tmp/ipykernel_2141518/560735487.py:29: DeprecationWarning: Please use `gaussian_filter` from the `scipy.ndimage` namespace, the `scipy.ndimage.filters` namespace is deprecated.\n",
      "  from scipy.ndimage.filters import gaussian_filter\n"
     ]
    }
   ],
   "source": [
    "import argparse\n",
    "import os\n",
    "import random\n",
    "\n",
    "import numpy as np\n",
    "import torch\n",
    "import torch.backends.cudnn as cudnn\n",
    "import gradio as gr\n",
    "\n",
    "from minigpt4.common.config import Config\n",
    "from minigpt4.common.dist_utils import get_rank\n",
    "from minigpt4.common.registry import registry\n",
    "from minigpt4.conversation.conversation import Chat, CONV_VISION\n",
    "from PIL import Image\n",
    "# imports modules for registration\n",
    "from minigpt4.datasets.builders import *\n",
    "from minigpt4.models import *\n",
    "from minigpt4.processors import *\n",
    "from minigpt4.runners import *\n",
    "from minigpt4.tasks import *\n",
    "from datasets import load_dataset\n",
    "from tqdm import tqdm\n",
    "from matplotlib import pyplot as plt\n",
    "import json\n",
    "from textwrap import wrap\n",
    "from segment_anything import SamAutomaticMaskGenerator, sam_model_registry\n",
    "import cv2\n",
    "\n",
    "from scipy.ndimage.filters import gaussian_filter"
   ]
  },
  {
   "cell_type": "code",
   "execution_count": 85,
   "metadata": {},
   "outputs": [],
   "source": [
    "sam = sam_model_registry[\"default\"](checkpoint=\"/data/ossowski/Segment_Anything/sam_vit_h_4b8939.pth\")\n",
    "mask_generator = SamAutomaticMaskGenerator(sam, points_per_side = 30, pred_iou_thresh=0.88, box_nms_thresh=0.9)\n",
    "num = 16\n",
    "image_num = 0\n",
    "\n",
    "image = cv2.imread(f\"../raw_images/{num * 2 + image_num}.png\")\n",
    "image = cv2.cvtColor(image, cv2.COLOR_BGR2RGB)\n",
    "masks = mask_generator.generate(image)\n",
    "sorted_anns = sorted(masks, key=(lambda x: x['area']), reverse=True)\n",
    "\n",
    "\n"
   ]
  },
  {
   "cell_type": "code",
   "execution_count": 86,
   "metadata": {},
   "outputs": [
    {
     "name": "stdout",
     "output_type": "stream",
     "text": [
      "1953566 1520640.0\n",
      "186907 1520640.0\n",
      "175688 1520640.0\n",
      "174811 1520640.0\n",
      "174661 1520640.0\n",
      "174248 1520640.0\n",
      "143911 1520640.0\n",
      "143625 1520640.0\n",
      "143374 1520640.0\n",
      "120225 1520640.0\n",
      "101447 1520640.0\n",
      "100245 1520640.0\n",
      "97157 1520640.0\n",
      "92580 1520640.0\n",
      "87660 1520640.0\n",
      "78479 1520640.0\n",
      "78168 1520640.0\n",
      "76612 1520640.0\n",
      "76239 1520640.0\n",
      "76102 1520640.0\n",
      "75828 1520640.0\n",
      "72082 1520640.0\n",
      "71643 1520640.0\n",
      "65976 1520640.0\n",
      "61432 1520640.0\n",
      "59766 1520640.0\n",
      "44204 1520640.0\n",
      "42429 1520640.0\n",
      "40277 1520640.0\n",
      "39599 1520640.0\n",
      "34252 1520640.0\n",
      "33390 1520640.0\n",
      "32992 1520640.0\n",
      "32896 1520640.0\n",
      "32443 1520640.0\n",
      "32160 1520640.0\n",
      "29364 1520640.0\n",
      "25906 1520640.0\n",
      "21040 1520640.0\n",
      "17663 1520640.0\n",
      "15272 1520640.0\n",
      "13838 1520640.0\n",
      "13176 1520640.0\n",
      "9235 1520640.0\n",
      "7682 1520640.0\n",
      "6311 1520640.0\n",
      "5130 1520640.0\n",
      "[0, 1, 2, 6, 9, 10, 15, 17, 19]\n"
     ]
    }
   ],
   "source": [
    "# masks = range(len(sorted_anns))\n",
    "\n",
    "visited = np.zeros_like(sorted_anns[0]['segmentation'])\n",
    "h, w= visited.shape\n",
    "# Only keep mask if it contains unique pixels\n",
    "masks = []\n",
    "cutoff = 500\n",
    "for i, mask in enumerate(sorted_anns):\n",
    "    print(mask['area'], h * w * 0.5)\n",
    "    #if mask['area'] < 10000 or mask['area'] > h * w * 0.5:\n",
    "    if mask['area'] < 10000:\n",
    "\n",
    "        continue\n",
    "    bool_mask = mask['segmentation']\n",
    "    visited_copy = visited.copy()\n",
    "    unique = True\n",
    "    total_overlap = 0\n",
    "    for j in range(len(bool_mask)):\n",
    "        for k in range(len(bool_mask[0])):\n",
    "            if visited_copy[j,k] == 1 and bool_mask[j,k] == 1:\n",
    "                total_overlap += 1\n",
    "                if total_overlap > cutoff:\n",
    "                    unique = False\n",
    "\n",
    "                    break\n",
    "            elif visited_copy[j,k] == 0 and bool_mask[j,k] == 1:\n",
    "                visited_copy[j,k] = 1\n",
    "        if not unique:\n",
    "            break\n",
    "    if unique:\n",
    "        visited = visited_copy\n",
    "        masks.append(i)\n",
    "print(masks)"
   ]
  },
  {
   "cell_type": "code",
   "execution_count": 87,
   "metadata": {},
   "outputs": [
    {
     "data": {
      "image/png": "[encoded data removed]",
      "text/plain": [
       "<Figure size 640x480 with 1 Axes>"
      ]
     },
     "metadata": {},
     "output_type": "display_data"
    }
   ],
   "source": [
    "os.makedirs(\"test\", exist_ok=True)\n",
    "\n",
    "for k in range(len(masks)):\n",
    "    bool_mask = sorted_anns[masks[k]]['segmentation']\n",
    "    x1, x2, y1, y2 = len(bool_mask), 0, len(bool_mask[0]), 0\n",
    "    for i in range(len(bool_mask)):\n",
    "        for j in range(len(bool_mask[0])):\n",
    "            if bool_mask[i][j] == 1:\n",
    "                x1 = min(x1, i)\n",
    "                x2 = max(x2, i)\n",
    "                y1 = min(y1, j)\n",
    "                y2 = max(y2, j)\n",
    "    test = Image.open(f\"../raw_images/{num * 2 + image_num}.png\").convert('RGB')\n",
    "\n",
    "    im_copy  = np.array(test)\n",
    "\n",
    "    im_copy[~bool_mask] = np.array([255,255,255])\n",
    "    cropped = np.array(Image.fromarray(im_copy).crop((y1, x1, y2, x2)))\n",
    "\n",
    "    # m = np.zeros((max(np.array(cropped).shape), max(np.array(cropped).shape), 3), dtype=np.uint8)\n",
    "    # if np.array(cropped).shape[0] <= np.array(cropped).shape[1]:\n",
    "    #     offset = abs(x2 - x1) // 2\n",
    "    #     start = m.shape[0] // 2 - offset \n",
    "    #     m[start:start + x2 - x1, :, :] = np.array(cropped)\n",
    "    # else:\n",
    "    #     offset = (y2 - y1) // 2\n",
    "    #     start = m.shape[1] // 2 - offset\n",
    "    #     m[:, start:start+y2 - y1, :] = np.array(cropped)\n",
    "\n",
    "    plt.imshow(cropped)\n",
    "    plt.savefig(f\"test/test{k}.png\")\n",
    "#plt.imsave(\"test.png\")\n"
   ]
  },
  {
   "cell_type": "code",
   "execution_count": null,
   "metadata": {},
   "outputs": [],
   "source": []
  },
  {
   "cell_type": "code",
   "execution_count": null,
   "metadata": {},
   "outputs": [],
   "source": [
    "()"
   ]
  }
 ],
 "metadata": {
  "kernelspec": {
   "display_name": "minigpt4",
   "language": "python",
   "name": "python3"
  },
  "language_info": {
   "codemirror_mode": {
    "name": "ipython",
    "version": 3
   },
   "file_extension": ".py",
   "mimetype": "text/x-python",
   "name": "python",
   "nbconvert_exporter": "python",
   "pygments_lexer": "ipython3",
   "version": "3.9.16"
  },
  "orig_nbformat": 4
 },
 "nbformat": 4,
 "nbformat_minor": 2
}
